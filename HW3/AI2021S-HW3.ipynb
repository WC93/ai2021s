{
 "cells": [
  {
   "cell_type": "markdown",
   "id": "5a1368f0",
   "metadata": {},
   "source": [
    "# 作业3：深度学习框架实践"
   ]
  },
  {
   "cell_type": "markdown",
   "id": "294a04c2",
   "metadata": {},
   "source": [
    "本次作业将练习深度学习框架的使用，大部分内容用 PyTorch 实现。第1题利用卷积层和全连接层实现手写数字的识别，第2题利用 RNN 来实现英文名的自动生成，第3题是算法题，利用卷积运算实现任意大整数的乘法。"
   ]
  },
  {
   "cell_type": "markdown",
   "id": "f9ee659c",
   "metadata": {},
   "source": [
    "### 第1题"
   ]
  },
  {
   "cell_type": "markdown",
   "id": "997082ed",
   "metadata": {},
   "source": [
    "1. 目标：通过对 MNIST 数据进行训练，构建一个简单的图像分类模型，对图片中的数字进行识别。你将利用该模型对自己真实手写出的数字进行预测，观察模型效果。"
   ]
  },
  {
   "cell_type": "markdown",
   "id": "dc8ce0e1",
   "metadata": {},
   "source": [
    "2. 主要步骤：获取数据，创建模型结构，定义损失函数，编写训练循环，实施预测。"
   ]
  },
  {
   "cell_type": "markdown",
   "id": "ccc63241",
   "metadata": {},
   "source": [
    "3. 获取数据。我们使用知名的 MNIST 数据集，它可以从 PyTorch 中利用工具函数下载得到。原始的 MNIST 数据训练集大小为60000，我们随机抽取其中的10000个观测进行简单的训练。以下函数会在当前目录建立一个名为 data 的文件夹，其中会包含下载得到的数据集。"
   ]
  },
  {
   "cell_type": "markdown",
   "id": "2069eef6",
   "metadata": {},
   "source": [
    "**注意：请在任何程序的最开始加上随机数种子的设置。请保持这一习惯。**"
   ]
  },
  {
   "cell_type": "code",
   "execution_count": 8,
   "id": "57301cf0",
   "metadata": {},
   "outputs": [],
   "source": [
    "import numpy as np\n",
    "import torch\n",
    "from torchvision import datasets\n",
    "from torchvision.transforms import ToTensor\n",
    "from torch.utils.data import DataLoader\n",
    "\n",
    "np.random.seed(123)\n",
    "torch.manual_seed(123)\n",
    "\n",
    "mnist = datasets.MNIST(\n",
    "    root=\"data\",\n",
    "    train=True,\n",
    "    download=True,\n",
    "    transform=ToTensor()\n",
    ")\n",
    "loader = DataLoader(mnist, batch_size=10000, shuffle=True)"
   ]
  },
  {
   "cell_type": "markdown",
   "id": "afdaba44",
   "metadata": {},
   "source": [
    "我们一次性取出随机抽取到的10000个观测，其中 x 是图片数据，y 是图片对应的数字。"
   ]
  },
  {
   "cell_type": "code",
   "execution_count": 2,
   "id": "61ae2977",
   "metadata": {},
   "outputs": [],
   "source": [
    "x, y = next(iter(loader))"
   ]
  },
  {
   "cell_type": "markdown",
   "id": "145971d1",
   "metadata": {},
   "source": [
    "一个习惯性动作是查看数据的大小和维度。"
   ]
  },
  {
   "cell_type": "code",
   "execution_count": 3,
   "id": "d67073f6",
   "metadata": {},
   "outputs": [
    {
     "name": "stdout",
     "output_type": "stream",
     "text": [
      "torch.Size([10000, 1, 28, 28])\n",
      "torch.Size([10000])\n"
     ]
    }
   ],
   "source": [
    "import matplotlib.pyplot as plt\n",
    "\n",
    "print(x.shape)\n",
    "print(y.shape)\n"
   ]
  },
  {
   "cell_type": "markdown",
   "id": "f8a0aa24",
   "metadata": {},
   "source": [
    "我们可以利用下面的函数展示图片的内容。如选择第一张图片，先将其转换成 Numpy 数组，再绘制图形："
   ]
  },
  {
   "cell_type": "code",
   "execution_count": 3,
   "id": "c2de2307",
   "metadata": {
    "scrolled": true
   },
   "outputs": [
    {
     "ename": "NameError",
     "evalue": "name 'x' is not defined",
     "output_type": "error",
     "traceback": [
      "\u001B[1;31m---------------------------------------------------------------------------\u001B[0m",
      "\u001B[1;31mNameError\u001B[0m                                 Traceback (most recent call last)",
      "\u001B[1;32m<ipython-input-3-fe49cea6e80c>\u001B[0m in \u001B[0;36m<module>\u001B[1;34m\u001B[0m\n\u001B[0;32m      2\u001B[0m \u001B[1;32mimport\u001B[0m \u001B[0mpylab\u001B[0m\u001B[1;33m\u001B[0m\u001B[1;33m\u001B[0m\u001B[0m\n\u001B[0;32m      3\u001B[0m \u001B[1;33m\u001B[0m\u001B[0m\n\u001B[1;32m----> 4\u001B[1;33m \u001B[0mimg\u001B[0m \u001B[1;33m=\u001B[0m \u001B[0mx\u001B[0m\u001B[1;33m[\u001B[0m\u001B[1;36m567\u001B[0m\u001B[1;33m]\u001B[0m\u001B[1;33m.\u001B[0m\u001B[0msqueeze\u001B[0m\u001B[1;33m(\u001B[0m\u001B[1;33m)\u001B[0m\u001B[1;33m.\u001B[0m\u001B[0mcpu\u001B[0m\u001B[1;33m(\u001B[0m\u001B[1;33m)\u001B[0m\u001B[1;33m.\u001B[0m\u001B[0mnumpy\u001B[0m\u001B[1;33m(\u001B[0m\u001B[1;33m)\u001B[0m\u001B[1;33m\u001B[0m\u001B[1;33m\u001B[0m\u001B[0m\n\u001B[0m\u001B[0;32m      5\u001B[0m \u001B[0mprint\u001B[0m\u001B[1;33m(\u001B[0m\u001B[0mimg\u001B[0m\u001B[1;33m.\u001B[0m\u001B[0mshape\u001B[0m\u001B[1;33m)\u001B[0m\u001B[1;33m\u001B[0m\u001B[1;33m\u001B[0m\u001B[0m\n\u001B[0;32m      6\u001B[0m \u001B[0mplt\u001B[0m\u001B[1;33m.\u001B[0m\u001B[0mimshow\u001B[0m\u001B[1;33m(\u001B[0m\u001B[0mimg\u001B[0m\u001B[1;33m)\u001B[0m\u001B[1;33m\u001B[0m\u001B[1;33m\u001B[0m\u001B[0m\n",
      "\u001B[1;31mNameError\u001B[0m: name 'x' is not defined"
     ]
    }
   ],
   "source": [
    "import matplotlib.pyplot as plt\n",
    "import pylab\n",
    "\n",
    "img = x[567].squeeze().cpu().numpy()\n",
    "print(img.shape)\n",
    "plt.imshow(img)\n",
    "pylab.show()"
   ]
  },
  {
   "cell_type": "markdown",
   "id": "6ad3bff1",
   "metadata": {},
   "source": [
    "接下来请你选择5个你喜欢的数字（10000以下），然后取出对应位置的图片，并画出它们的内容。"
   ]
  },
  {
   "cell_type": "code",
   "execution_count": null,
   "id": "49728eff",
   "metadata": {
    "pycharm": {
     "is_executing": true
    }
   },
   "outputs": [],
   "source": [
    "# Plot five digits here\n",
    "img1 = x[10].squeeze().cpu().numpy()\n",
    "img2 = x[9].squeeze().cpu().numpy()\n",
    "img3 = x[8].squeeze().cpu().numpy()\n",
    "img4 = x[7].squeeze().cpu().numpy()\n",
    "img5 = x[6].squeeze().cpu().numpy()\n",
    "\n",
    "print(img1.shape)\n",
    "print(img2.shape)\n",
    "print(img3.shape)\n",
    "print(img4.shape)\n",
    "print(img5.shape)\n",
    "plt.imshow(img1, cmap=\"gray\")\n",
    "plt.show()\n",
    "plt.imshow(img2, cmap=\"gray\")\n",
    "plt.show()\n",
    "plt.imshow(img3, cmap=\"gray\")\n",
    "plt.show()\n",
    "plt.imshow(img4, cmap=\"gray\")\n",
    "plt.show()\n",
    "plt.imshow(img5, cmap=\"gray\")\n",
    "plt.show()"
   ]
  },
  {
   "cell_type": "markdown",
   "id": "35776058",
   "metadata": {},
   "source": [
    "4. 搭建模型。我们搭建一个类似于 LeNet-5 的网络，结构如下："
   ]
  },
  {
   "cell_type": "markdown",
   "id": "d175cb17",
   "metadata": {},
   "source": [
    "![](https://pic1.zhimg.com/80/v2-82eabb4c17e90d467197d013f7629f3c_720w.jpg)"
   ]
  },
  {
   "cell_type": "markdown",
   "id": "4ec06760",
   "metadata": {},
   "source": [
    "我们需要创建2个卷积层、2个汇聚层（池化层）和2个全连接层，**暂时忽略所有的激活函数**。所有隐藏层的函数细节都可以在[官方文档](https://pytorch.org/docs/stable/nn.html)中按分类找到。每一个隐藏层本质上都是将一个数组变换成另一个数组的函数，因此为了确认编写的模型是正确的，可以先用一个小数据进行测试，观察输入和输出的维度。例如，我们先取出前10个观测，此时输入的维度是 `[10, 1, 28, 28]`："
   ]
  },
  {
   "cell_type": "code",
   "execution_count": 4,
   "id": "a26ebf44",
   "metadata": {},
   "outputs": [
    {
     "name": "stdout",
     "output_type": "stream",
     "text": [
      "torch.Size([10, 1, 28, 28])\n",
      "torch.Size([10])\n"
     ]
    }
   ],
   "source": [
    "smallx = x[0:10]\n",
    "smally = y[0:10]\n",
    "print(smallx.shape)\n",
    "print(smally.shape)"
   ]
  },
  {
   "cell_type": "markdown",
   "id": "ada326cb",
   "metadata": {},
   "source": [
    "接下来创建第1个卷积层，并测试输出的维度。注意到我们可以直接将隐藏层当成一个函数来调用。"
   ]
  },
  {
   "cell_type": "code",
   "execution_count": 5,
   "id": "500c1874",
   "metadata": {},
   "outputs": [
    {
     "name": "stdout",
     "output_type": "stream",
     "text": [
      "torch.Size([10, 20, 24, 24])\n"
     ]
    }
   ],
   "source": [
    "conv1 = torch.nn.Conv2d(in_channels=1, out_channels=20, kernel_size=5, stride=1)\n",
    "res = conv1(smallx)\n",
    "print(res.shape)"
   ]
  },
  {
   "cell_type": "markdown",
   "id": "b2e8230d",
   "metadata": {},
   "source": [
    "可以看到，输出的维度为 `[20, 24, 24]`（不包括第1位的数据批次维度），与之前图中的结果吻合。"
   ]
  },
  {
   "cell_type": "markdown",
   "id": "cfc3c891",
   "metadata": {},
   "source": [
    "接下来，请按照图中提示编写层对象 `pool1`、`conv2`、`pool2`、`fc1` 和 `fc2`，并顺次测试输入与输出的维度，使其与上图匹配。注意，在将一个大小为 `[10, 50, 4, 4]` 的数组（假设叫 `somearray`）传递给 `fc1` 之前，需要先将其变形为只有两个维度的数组，做法是 `somearray.view(-1, 50*4*4)`，其中 -1 表示该位置的大小不变。"
   ]
  },
  {
   "cell_type": "code",
   "id": "94e3f58c",
   "metadata": {
    "pycharm": {
     "name": "#%%\n"
    }
   },
   "source": [
    "pool1 = torch.nn.Conv2d(in_channels=20, out_channels=20, kernel_size=2, stride=2)\n",
    "res = pool1(res)\n",
    "print(res.shape)\n",
    "conv2 = torch.nn.Conv2d(in_channels=20, out_channels=50, kernel_size=5, stride=1)\n",
    "res = conv2(res)\n",
    "print(res.shape)\n",
    "pool2 = torch.nn.Conv2d(in_channels=50, out_channels=50, kernel_size=2, stride=2)\n",
    "res = pool2(res)\n",
    "print(res.shape)\n",
    "fc1 = torch.nn.Linear(in_features=50*4*4, out_features=500)\n",
    "res = fc1(res.view(-1, 50 * 4 * 4))\n",
    "print(res.shape)\n",
    "res = torch.relu(res)\n",
    "fc2 = torch.nn.Linear(in_features=500, out_features=10)\n",
    "res = fc2(res)\n",
    "print(res.shape)\n"
   ],
   "execution_count": 6,
   "outputs": [
    {
     "name": "stdout",
     "output_type": "stream",
     "text": [
      "torch.Size([10, 20, 12, 12])\n",
      "torch.Size([10, 50, 8, 8])\n",
      "torch.Size([10, 50, 4, 4])\n",
      "torch.Size([10, 500])\n",
      "torch.Size([10, 10])\n"
     ]
    }
   ]
  },
  {
   "cell_type": "markdown",
   "id": "91ba53a4",
   "metadata": {},
   "source": [
    "5. 创建模型类。在确保隐藏层维度都正确后，将所有的隐藏层封装到一个模型类中，其中模型结构在 `__init__()` 中定义，具体的计算过程在 `forward()` 中实现。此时需要加入激活函数。在本模型中，**请在 `conv1`、`conv2` 和 `fc1` 后加入 ReLU 激活函数，并在 `fc2` 后加入 Softmax 激活函数**。"
   ]
  },
  {
   "cell_type": "code",
   "id": "415791e4",
   "metadata": {
    "pycharm": {
     "name": "#%%\n"
    }
   },
   "source": [
    "class MyModel(torch.nn.Module):\n",
    "    def __init__(self):\n",
    "        super().__init__()\n",
    "        self.conv1 = torch.nn.Conv2d(in_channels=1, out_channels=20, kernel_size=5, stride=1)\n",
    "        self.pool1 = torch.nn.Conv2d(in_channels=20, out_channels=20, kernel_size=2, stride=2)\n",
    "        self.conv2 = torch.nn.Conv2d(in_channels=20, out_channels=50, kernel_size=5, stride=1)\n",
    "        self.pool2 = torch.nn.Conv2d(in_channels=50, out_channels=50, kernel_size=2, stride=2)\n",
    "        self.fc1 = torch.nn.Linear(in_features=50*4*4, out_features=500)\n",
    "        self.fc2 = torch.nn.Linear(in_features=500, out_features=10)\n",
    "\n",
    "    def forward(self, x):\n",
    "        x = self.conv1(x)\n",
    "        x = torch.relu(x)\n",
    "        x = self.pool1(x)\n",
    "        x = self.conv2(x)\n",
    "        x = torch.relu(x)\n",
    "        x = self.pool2(x)\n",
    "        x = self.fc1(x.view(-1, 50 * 4 * 4))\n",
    "        x = torch.relu(x)\n",
    "        x = self.fc2(x)\n",
    "        x = torch.nn.functional.softmax(x)\n",
    "        return x\n",
    "\n"
   ],
   "execution_count": 7,
   "outputs": []
  },
  {
   "cell_type": "markdown",
   "id": "49894cba",
   "metadata": {},
   "source": [
    "再次测试输入输出的维度是否正确。如果模型编写正确，输出的维度应该是 `[10, 10]`，且输出结果为0到1之间的概率值。"
   ]
  },
  {
   "cell_type": "code",
   "execution_count": 8,
   "id": "95558fc5",
   "metadata": {},
   "outputs": [
    {
     "name": "stdout",
     "output_type": "stream",
     "text": [
      "torch.Size([10, 10])\n",
      "tensor([[0.1006, 0.1027, 0.0971, 0.0991, 0.1028, 0.1008, 0.0989, 0.0961, 0.1033,\n",
      "         0.0988],\n",
      "        [0.1004, 0.1034, 0.0970, 0.0994, 0.1028, 0.1005, 0.0986, 0.0966, 0.1035,\n",
      "         0.0979],\n",
      "        [0.1007, 0.1028, 0.0971, 0.0989, 0.1028, 0.0999, 0.0988, 0.0963, 0.1039,\n",
      "         0.0987],\n",
      "        [0.1002, 0.1026, 0.0973, 0.0987, 0.1025, 0.1001, 0.0983, 0.0971, 0.1049,\n",
      "         0.0983],\n",
      "        [0.1002, 0.1019, 0.0963, 0.0988, 0.1035, 0.0996, 0.0994, 0.0967, 0.1037,\n",
      "         0.1001],\n",
      "        [0.1002, 0.1024, 0.0967, 0.0994, 0.1032, 0.1003, 0.0991, 0.0968, 0.1035,\n",
      "         0.0984],\n",
      "        [0.1001, 0.1027, 0.0964, 0.0992, 0.1031, 0.1005, 0.0993, 0.0966, 0.1038,\n",
      "         0.0983],\n",
      "        [0.1005, 0.1019, 0.0966, 0.0985, 0.1035, 0.1003, 0.0994, 0.0968, 0.1032,\n",
      "         0.0994],\n",
      "        [0.0999, 0.1031, 0.0971, 0.0987, 0.1028, 0.1003, 0.0990, 0.0960, 0.1040,\n",
      "         0.0992],\n",
      "        [0.0999, 0.1032, 0.0971, 0.0988, 0.1035, 0.1004, 0.0988, 0.0962, 0.1039,\n",
      "         0.0982]], grad_fn=<SoftmaxBackward>)\n"
     ]
    },
    {
     "name": "stderr",
     "output_type": "stream",
     "text": [
      "<ipython-input-7-83c7dcb596f8>:21: UserWarning: Implicit dimension choice for softmax has been deprecated. Change the call to include dim=X as an argument.\n",
      "  x = torch.nn.functional.softmax(x)\n"
     ]
    }
   ],
   "source": [
    "np.random.seed(123)\n",
    "torch.manual_seed(123)\n",
    "\n",
    "model = MyModel()\n",
    "pred = model(smallx)\n",
    "print(pred.shape)\n",
    "print(pred)"
   ]
  },
  {
   "cell_type": "markdown",
   "id": "3b8236f0",
   "metadata": {},
   "source": [
    "`pred` 的每一行加总为1，其中每一个元素代表对应类别的预测概率。"
   ]
  },
  {
   "cell_type": "markdown",
   "id": "1ca3a05a",
   "metadata": {},
   "source": [
    "我们还可以直接打印模型对象，观察隐藏层的结构："
   ]
  },
  {
   "cell_type": "code",
   "execution_count": 9,
   "id": "20a4eb6f",
   "metadata": {},
   "outputs": [
    {
     "name": "stdout",
     "output_type": "stream",
     "text": [
      "MyModel(\n",
      "  (conv1): Conv2d(1, 20, kernel_size=(5, 5), stride=(1, 1))\n",
      "  (pool1): Conv2d(20, 20, kernel_size=(2, 2), stride=(2, 2))\n",
      "  (conv2): Conv2d(20, 50, kernel_size=(5, 5), stride=(1, 1))\n",
      "  (pool2): Conv2d(50, 50, kernel_size=(2, 2), stride=(2, 2))\n",
      "  (fc1): Linear(in_features=800, out_features=500, bias=True)\n",
      "  (fc2): Linear(in_features=500, out_features=10, bias=True)\n",
      ")\n"
     ]
    }
   ],
   "source": [
    "print(model)"
   ]
  },
  {
   "cell_type": "markdown",
   "id": "ffd11e33",
   "metadata": {},
   "source": [
    "6. 损失函数。对于分类问题，损失函数通常选取为负对数似然函数。在 PyTorch 中，可以使用 `torch.nn.NLLLoss` 来完成计算。其用法是先定义一个损失函数对象，然后在预测值和真实标签上调用该函数对象。注意：损失函数对象的第一个参数是预测概率的**对数值**，第二个参数是真实的标签。[文档说明](https://pytorch.org/docs/stable/generated/torch.nn.NLLLoss.html)。"
   ]
  },
  {
   "cell_type": "code",
   "execution_count": 10,
   "id": "6f4ee18e",
   "metadata": {},
   "outputs": [
    {
     "data": {
      "text/plain": "tensor(2.3020, grad_fn=<NllLossBackward>)"
     },
     "execution_count": 10,
     "metadata": {},
     "output_type": "execute_result"
    }
   ],
   "source": [
    "lossfn = torch.nn.NLLLoss()\n",
    "lossfn(torch.log(pred), smally)"
   ]
  },
  {
   "cell_type": "markdown",
   "id": "c53f5d1a",
   "metadata": {},
   "source": [
    "7. 利用课上介绍的循环模板和代码示例，对模型进行迭代训练。对于本数据，选取 mini-batch 大小为200，共遍历数据10遍，优化器选为 Adam，学习率为0.001。"
   ]
  },
  {
   "cell_type": "code",
   "execution_count": 11,
   "id": "b99d1bb8",
   "metadata": {},
   "outputs": [
    {
     "name": "stderr",
     "output_type": "stream",
     "text": [
      "<ipython-input-7-83c7dcb596f8>:21: UserWarning: Implicit dimension choice for softmax has been deprecated. Change the call to include dim=X as an argument.\n",
      "  x = torch.nn.functional.softmax(x)\n"
     ]
    },
    {
     "name": "stdout",
     "output_type": "stream",
     "text": [
      "iteration 0, loss = 2.2994019985198975, prediction = [[0.09606562 0.10630714 0.09571652 ... 0.10163944 0.09815796 0.10326614]\n",
      " [0.0962467  0.10638786 0.09611835 ... 0.10159162 0.09826134 0.10295098]\n",
      " [0.09611351 0.1067588  0.09546079 ... 0.10192002 0.09803085 0.10318559]\n",
      " ...\n",
      " [0.09677649 0.10644003 0.0958413  ... 0.10143472 0.09799951 0.10349455]\n",
      " [0.09661138 0.10684768 0.09548227 ... 0.10244971 0.09771762 0.10248787]\n",
      " [0.09644525 0.10621992 0.09556885 ... 0.10162458 0.09822908 0.10325385]]\n",
      "iteration 1, loss = 2.2941036224365234, prediction = [[0.09497759 0.11118372 0.09164773 ... 0.10899804 0.08800758 0.10401649]\n",
      " [0.09512907 0.11221647 0.09112655 ... 0.10765147 0.08902364 0.10306831]\n",
      " [0.09648997 0.11178397 0.0911095  ... 0.1096554  0.0885753  0.10394223]\n",
      " ...\n",
      " [0.09571832 0.11258111 0.09144631 ... 0.10708909 0.0891479  0.10352141]\n",
      " [0.09539434 0.11246091 0.09143541 ... 0.10879081 0.08870853 0.10313323]\n",
      " [0.09519566 0.11291993 0.09274814 ... 0.10772151 0.08989762 0.10350402]]\n",
      "iteration 2, loss = 2.286858558654785, prediction = [[0.09113489 0.12066874 0.09321406 ... 0.11539466 0.0940304  0.10166986]\n",
      " [0.0937549  0.11341991 0.09407879 ... 0.11625738 0.09319808 0.10236891]\n",
      " [0.09033988 0.11582915 0.09582114 ... 0.11633598 0.09421472 0.10210637]\n",
      " ...\n",
      " [0.09385191 0.11197859 0.09377392 ... 0.11730807 0.09433577 0.10300913]\n",
      " [0.08965949 0.11196008 0.09461439 ... 0.11751218 0.09379373 0.10330264]\n",
      " [0.09481575 0.11159716 0.09456912 ... 0.11701568 0.09345901 0.10228966]]\n",
      "iteration 3, loss = 2.255882501602173, prediction = [[0.0876745  0.10804138 0.09649764 ... 0.11847699 0.09707212 0.10515821]\n",
      " [0.08589457 0.11622124 0.09856606 ... 0.11816619 0.09909097 0.10287037]\n",
      " [0.08726474 0.11524386 0.0987958  ... 0.11524061 0.10122115 0.10071351]\n",
      " ...\n",
      " [0.08716015 0.1190014  0.1015157  ... 0.11916303 0.0972738  0.10117845]\n",
      " [0.08708098 0.10887907 0.09581864 ... 0.12494129 0.09697499 0.10521541]\n",
      " [0.08671317 0.1125892  0.09716035 ... 0.1126831  0.09826413 0.10214176]]\n",
      "iteration 4, loss = 2.2287251949310303, prediction = [[0.08939427 0.12640373 0.09727518 ... 0.11381042 0.09941196 0.09859458]\n",
      " [0.08210993 0.1101739  0.10195232 ... 0.11379302 0.10315743 0.1060182 ]\n",
      " [0.0901891  0.10830024 0.09909032 ... 0.10913672 0.10626554 0.09808206]\n",
      " ...\n",
      " [0.08989271 0.10083656 0.09851065 ... 0.12983355 0.10030797 0.10658567]\n",
      " [0.10629032 0.10183801 0.09442902 ... 0.11353022 0.09884935 0.10046016]\n",
      " [0.09452543 0.10512098 0.09455221 ... 0.11038335 0.10463259 0.09761166]]\n",
      "iteration 5, loss = 2.158571720123291, prediction = [[0.08802938 0.12515512 0.10718478 ... 0.10302865 0.11105879 0.09477357]\n",
      " [0.09222738 0.12650709 0.09352242 ... 0.11356744 0.10156129 0.09901435]\n",
      " [0.09896363 0.09519757 0.08941988 ... 0.10749605 0.10398342 0.09810273]\n",
      " ...\n",
      " [0.0877322  0.11500116 0.09484354 ... 0.1201838  0.10576863 0.10441124]\n",
      " [0.09834275 0.08799606 0.09572533 ... 0.124346   0.0981854  0.11128343]\n",
      " [0.11788739 0.08436729 0.09685954 ... 0.11299332 0.09695842 0.10016044]]\n",
      "iteration 6, loss = 2.069425106048584, prediction = [[0.09114237 0.10793751 0.10004807 ... 0.11612788 0.10530658 0.10412229]\n",
      " [0.11464785 0.07909195 0.09332702 ... 0.10581345 0.08899294 0.10080554]\n",
      " [0.09502839 0.08727579 0.08900171 ... 0.14485969 0.10057066 0.11359257]\n",
      " ...\n",
      " [0.0944539  0.10158713 0.08267044 ... 0.10035726 0.10903823 0.09912985]\n",
      " [0.10035938 0.11785979 0.09422646 ... 0.10022651 0.10510917 0.09526501]\n",
      " [0.08675972 0.14225873 0.08665279 ... 0.1169861  0.10598367 0.09974642]]\n",
      "iteration 7, loss = 1.9259792566299438, prediction = [[0.10203422 0.10923342 0.08412836 ... 0.09293985 0.14090504 0.09483292]\n",
      " [0.07474766 0.21175714 0.09226689 ... 0.10973359 0.11379759 0.08372669]\n",
      " [0.09156441 0.10574039 0.09845591 ... 0.08602648 0.10918538 0.09275057]\n",
      " ...\n",
      " [0.13955587 0.07928366 0.10006804 ... 0.10020877 0.09329389 0.08467542]\n",
      " [0.09486955 0.1415054  0.14599021 ... 0.07845015 0.12110325 0.06852059]\n",
      " [0.1470241  0.09304409 0.10773598 ... 0.11535777 0.12309845 0.07927796]]\n",
      "iteration 8, loss = 1.8272926807403564, prediction = [[0.20355426 0.09065876 0.11372204 ... 0.09646282 0.1049893  0.06613273]\n",
      " [0.1765479  0.09494185 0.05339431 ... 0.13367145 0.09173037 0.10948521]\n",
      " [0.09082668 0.1317132  0.07514129 ... 0.22751714 0.09153391 0.11660838]\n",
      " ...\n",
      " [0.13876967 0.06624697 0.10595053 ... 0.09063282 0.06977138 0.08349803]\n",
      " [0.06106374 0.22474854 0.11418864 ... 0.10172028 0.13254115 0.07886767]\n",
      " [0.10723151 0.13058873 0.09089877 ... 0.11143596 0.17254086 0.09237269]]\n",
      "iteration 9, loss = 1.6408047676086426, prediction = [[0.06730628 0.06138441 0.04910823 ... 0.12356038 0.09803871 0.19229098]\n",
      " [0.22743478 0.07790214 0.11950615 ... 0.07777666 0.08658133 0.04880088]\n",
      " [0.07805017 0.0823043  0.05819926 ... 0.13789394 0.09514879 0.16465232]\n",
      " ...\n",
      " [0.21629591 0.04617686 0.07840432 ... 0.03398386 0.06937024 0.05149655]\n",
      " [0.04872019 0.08194908 0.16580167 ... 0.06831997 0.10863962 0.10460577]\n",
      " [0.07462887 0.06597399 0.03367914 ... 0.16636568 0.08992348 0.1817899 ]]\n"
     ]
    }
   ],
   "source": [
    "model = MyModel()\n",
    "nepoch = 10\n",
    "learning_rate = 0.001\n",
    "opt = torch.optim.Adam(model.parameters(), lr=learning_rate)\n",
    "\n",
    "for i in range(nepoch):\n",
    "    loader = DataLoader(mnist, batch_size=200, shuffle=True)\n",
    "    x, y = next(iter(loader))\n",
    "    pred = model(x)\n",
    "\n",
    "    loss = lossfn(torch.log(pred), y)\n",
    "\n",
    "    print(f\"iteration {i}, loss = {loss.item()}, prediction = {pred.detach().numpy().squeeze()}\")\n",
    "\n",
    "    opt.zero_grad()\n",
    "    loss.backward()\n",
    "    opt.step()\n",
    "\n"
   ]
  },
  {
   "cell_type": "markdown",
   "id": "0cc09b3f",
   "metadata": {},
   "source": [
    "为了验证模型的效果，我们对前10个观测（即之前生成的 `smallx` 和 `smally`）进行预测。"
   ]
  },
  {
   "cell_type": "code",
   "execution_count": 12,
   "id": "80a99a6e",
   "metadata": {},
   "outputs": [
    {
     "name": "stdout",
     "output_type": "stream",
     "text": [
      "[[0.084 0.03  0.026 0.032 0.059 0.036 0.032 0.558 0.027 0.115]\n",
      " [0.041 0.018 0.052 0.02  0.318 0.035 0.112 0.158 0.034 0.213]\n",
      " [0.219 0.037 0.026 0.179 0.07  0.217 0.089 0.035 0.058 0.071]\n",
      " [0.062 0.069 0.059 0.076 0.252 0.071 0.191 0.039 0.043 0.137]\n",
      " [0.733 0.01  0.013 0.041 0.015 0.087 0.025 0.038 0.02  0.018]\n",
      " [0.063 0.091 0.059 0.034 0.1   0.055 0.053 0.316 0.06  0.169]\n",
      " [0.02  0.377 0.158 0.066 0.072 0.031 0.03  0.06  0.134 0.051]\n",
      " [0.785 0.006 0.019 0.021 0.013 0.047 0.051 0.032 0.012 0.014]\n",
      " [0.071 0.055 0.043 0.075 0.075 0.059 0.032 0.381 0.055 0.153]\n",
      " [0.035 0.043 0.041 0.07  0.287 0.065 0.063 0.1   0.068 0.227]]\n",
      "tensor([7, 4, 5, 4, 0, 7, 1, 0, 7, 4])\n"
     ]
    },
    {
     "name": "stderr",
     "output_type": "stream",
     "text": [
      "<ipython-input-7-83c7dcb596f8>:21: UserWarning: Implicit dimension choice for softmax has been deprecated. Change the call to include dim=X as an argument.\n",
      "  x = torch.nn.functional.softmax(x)\n"
     ]
    }
   ],
   "source": [
    "ypred = model(smallx)\n",
    "print(np.round(ypred.detach().cpu().numpy(), 3))\n",
    "print(smally)"
   ]
  },
  {
   "cell_type": "markdown",
   "id": "38c93ff3",
   "metadata": {},
   "source": [
    "如果模型搭建和训练都正常，那么每一行中概率最大的取值所在的位置应该正好对应真实的标签。"
   ]
  },
  {
   "cell_type": "markdown",
   "id": "6c34de42",
   "metadata": {},
   "source": [
    "最后，我们用模型对一些真实的手写数字图片进行预测。请你利用绘图软件（如 Windows 自带的绘图，或 Photoshop 等）准备10张正方形黑色底色的图片，每张用鼠标绘制一个数字（请使用较粗的笔划），从0到9，然后以0.png，1.png等文件名存储下来，放到当前目录一个名为 digits 的文件夹中。以下是几个例子：\n",
    "![](digits/sample0.png) ![](digits/sample5.png) ![](digits/sample8.png)"
   ]
  },
  {
   "cell_type": "markdown",
   "id": "35066889",
   "metadata": {},
   "source": [
    "接下来利用 Pillow 软件包读取图片："
   ]
  },
  {
   "cell_type": "code",
   "execution_count": 17,
   "id": "0d19fbd2",
   "metadata": {
    "scrolled": true
   },
   "outputs": [
    {
     "data": {
      "text/plain": "<PIL.PngImagePlugin.PngImageFile image mode=RGB size=261x261 at 0x1DFD7842820>",
      "image/png": "[encoded data removed]"
     },
     "execution_count": 17,
     "metadata": {},
     "output_type": "execute_result"
    }
   ],
   "source": [
    "from PIL import Image\n",
    "im = Image.open(\"digits/sample0.png\")\n",
    "im"
   ]
  },
  {
   "cell_type": "markdown",
   "id": "7f30128c",
   "metadata": {},
   "source": [
    "此时如果直接将其转为 Numpy 数组会得到三个通道："
   ]
  },
  {
   "cell_type": "code",
   "execution_count": 18,
   "id": "f3999832",
   "metadata": {},
   "outputs": [
    {
     "name": "stdout",
     "output_type": "stream",
     "text": [
      "(261, 261, 3)\n"
     ]
    }
   ],
   "source": [
    "im_arr = np.array(im)\n",
    "print(im_arr.shape)"
   ]
  },
  {
   "cell_type": "markdown",
   "id": "06d85450",
   "metadata": {},
   "source": [
    "因此，我们先强制转换为灰度图片（单通道），再缩放至模型的图片大小 28 x 28："
   ]
  },
  {
   "cell_type": "code",
   "execution_count": 19,
   "id": "102618e8",
   "metadata": {},
   "outputs": [
    {
     "name": "stdout",
     "output_type": "stream",
     "text": [
      "(28, 28)\n"
     ]
    },
    {
     "data": {
      "text/plain": "<PIL.Image.Image image mode=L size=28x28 at 0x1DFE3804250>",
      "image/png": "[encoded data removed]"
     },
     "execution_count": 19,
     "metadata": {},
     "output_type": "execute_result"
    }
   ],
   "source": [
    "im = im.convert(\"L\")\n",
    "im.thumbnail((28, 28))\n",
    "im_arr = np.array(im)\n",
    "print(im_arr.shape)\n",
    "im"
   ]
  },
  {
   "cell_type": "markdown",
   "id": "3978a9d6",
   "metadata": {},
   "source": [
    "为了传递给模型对象，还需要先将数值归一化到 [0,1] 区间，转换为 PyTorch 的 Tensor 类型，并增加一个批次和一个通道的维度："
   ]
  },
  {
   "cell_type": "code",
   "execution_count": 20,
   "id": "ce6af013",
   "metadata": {},
   "outputs": [
    {
     "name": "stdout",
     "output_type": "stream",
     "text": [
      "torch.Size([1, 1, 28, 28])\n"
     ]
    }
   ],
   "source": [
    "test0 = torch.tensor(im_arr / 255.0, dtype=torch.float32).view(1, 1, 28, 28)\n",
    "print(test0.shape)"
   ]
  },
  {
   "cell_type": "markdown",
   "id": "69402359",
   "metadata": {},
   "source": [
    "最后对图片标签进行预测："
   ]
  },
  {
   "cell_type": "code",
   "execution_count": 21,
   "id": "28b1f088",
   "metadata": {},
   "outputs": [
    {
     "name": "stdout",
     "output_type": "stream",
     "text": [
      "[[0.129 0.043 0.169 0.059 0.131 0.052 0.155 0.129 0.053 0.08 ]]\n"
     ]
    },
    {
     "name": "stderr",
     "output_type": "stream",
     "text": [
      "<ipython-input-11-f3206bfc8cfd>:21: UserWarning: Implicit dimension choice for softmax has been deprecated. Change the call to include dim=X as an argument.\n",
      "  x = torch.nn.functional.softmax(x)\n"
     ]
    }
   ],
   "source": [
    "pred0 = model(test0)\n",
    "print(np.round(pred0.detach().cpu().numpy(), 3))"
   ]
  },
  {
   "cell_type": "markdown",
   "id": "6ebafef2",
   "metadata": {},
   "source": [
    "预测结果是否符合真实情形？请对你自己绘制出的10张图片进行类似的预测操作，并评价其效果。"
   ]
  },
  {
   "cell_type": "code",
   "execution_count": 23,
   "id": "9fadb617",
   "metadata": {},
   "outputs": [
    {
     "name": "stdout",
     "output_type": "stream",
     "text": [
      "[[0.311 0.057 0.057 0.075 0.061 0.104 0.07  0.128 0.062 0.074]]\n",
      "[[0.071 0.269 0.098 0.094 0.069 0.082 0.083 0.062 0.108 0.065]]\n",
      "[[0.052 0.185 0.159 0.081 0.104 0.06  0.111 0.066 0.098 0.085]]\n",
      "[[0.067 0.142 0.081 0.225 0.088 0.083 0.057 0.083 0.102 0.073]]\n",
      "[[0.07  0.11  0.084 0.063 0.175 0.069 0.131 0.113 0.058 0.128]]\n",
      "[[0.24  0.066 0.057 0.075 0.075 0.145 0.097 0.094 0.064 0.088]]\n",
      "[[0.167 0.035 0.061 0.116 0.103 0.167 0.174 0.03  0.074 0.073]]\n",
      "[[0.029 0.36  0.182 0.091 0.048 0.033 0.029 0.079 0.104 0.045]]\n",
      "[[0.073 0.137 0.118 0.174 0.113 0.091 0.068 0.037 0.125 0.065]]\n",
      "[[0.045 0.024 0.043 0.111 0.251 0.072 0.058 0.108 0.085 0.203]]\n"
     ]
    },
    {
     "name": "stderr",
     "output_type": "stream",
     "text": [
      "<ipython-input-11-f3206bfc8cfd>:21: UserWarning: Implicit dimension choice for softmax has been deprecated. Change the call to include dim=X as an argument.\n",
      "  x = torch.nn.functional.softmax(x)\n"
     ]
    }
   ],
   "source": [
    "for i in range(10):\n",
    "    im = Image.open(\"digits/%i.png\"%i)\n",
    "    im = im.convert(\"L\")\n",
    "    im = im.resize((28, 28))\n",
    "    im_arr = np.array(im)\n",
    "\n",
    "    test0 = torch.tensor(im_arr / 255.0, dtype=torch.float32).view(1, 1, 28, 28)\n",
    "\n",
    "    pred0 = model(test0)\n",
    "    print(np.round(pred0.detach().cpu().numpy(), 3))"
   ]
  },
  {
   "cell_type": "markdown",
   "id": "e5495037",
   "metadata": {},
   "source": [
    "### 第2题"
   ]
  },
  {
   "cell_type": "markdown",
   "id": "397c0d2c",
   "metadata": {},
   "source": [
    "1. 目标：通过对英文名数据进行训练，构建一个 RNN 模型，实现英文名的自动生成。"
   ]
  },
  {
   "cell_type": "markdown",
   "id": "65bfcc5b",
   "metadata": {},
   "source": [
    "2. 主要步骤：获取和整理数据，对字符串进行 one-hot 编码，创建模型结构，定义损失函数，编写训练循环，最后生成人名字符串。"
   ]
  },
  {
   "cell_type": "markdown",
   "id": "0c45928f",
   "metadata": {},
   "source": [
    "3. 获取和整理数据。数据文件已存为 `data/names.txt`，先将其读取为字符串列表："
   ]
  },
  {
   "cell_type": "code",
   "execution_count": 25,
   "id": "01c31142",
   "metadata": {},
   "outputs": [
    {
     "name": "stdout",
     "output_type": "stream",
     "text": [
      "3668\n",
      "['Abbas', 'Abbey', 'Abbott', 'Abdi', 'Abel']\n"
     ]
    }
   ],
   "source": [
    "import io\n",
    "lines = io.open(\"data/names.txt\").read().strip().split('\\n')\n",
    "print(len(lines))\n",
    "print(lines[0:5])"
   ]
  },
  {
   "cell_type": "markdown",
   "id": "68c7f61d",
   "metadata": {},
   "source": [
    "可以看出，共读取了3668个名字。为了简单起见，我们将所有的大写字母转换为小写。"
   ]
  },
  {
   "cell_type": "code",
   "execution_count": 26,
   "id": "8700c2c8",
   "metadata": {},
   "outputs": [
    {
     "name": "stdout",
     "output_type": "stream",
     "text": [
      "['abbas', 'abbey', 'abbott', 'abdi', 'abel']\n"
     ]
    }
   ],
   "source": [
    "names = [s.lower() for s in lines]\n",
    "print(names[0:5])"
   ]
  },
  {
   "cell_type": "markdown",
   "id": "fe2499d0",
   "metadata": {},
   "source": [
    "接下来我们需要构建一个字符的字典。对于英文名来说很简单，即26个字母。我们可以通过下面的代码直接得到。"
   ]
  },
  {
   "cell_type": "code",
   "execution_count": 27,
   "id": "2c54b9e2",
   "metadata": {},
   "outputs": [
    {
     "data": {
      "text/plain": "'abcdefghijklmnopqrstuvwxyz'"
     },
     "execution_count": 27,
     "metadata": {},
     "output_type": "execute_result"
    }
   ],
   "source": [
    "import string\n",
    "dict = string.ascii_lowercase\n",
    "dict"
   ]
  },
  {
   "cell_type": "markdown",
   "id": "cae3914e",
   "metadata": {},
   "source": [
    "4. 下面准备好 one-hot 编码所需的函数。编写函数 `char2index(char)`，将一个字母转换为其所在字典的位置。例如 `char2index(\"a\")` 要返回0，`char2index(\"z\")` 要返回25，等等。提示：使用字符串的 `.find()` 函数。"
   ]
  },
  {
   "cell_type": "code",
   "execution_count": 28,
   "id": "618142d9",
   "metadata": {},
   "outputs": [
    {
     "name": "stdout",
     "output_type": "stream",
     "text": [
      "True\n"
     ]
    }
   ],
   "source": [
    "def char2index(char):\n",
    "    # Implementation here\n",
    "    dict = string.ascii_lowercase\n",
    "    return dict.find(char)\n",
    "\n",
    "print(char2index(\"z\") == 25)"
   ]
  },
  {
   "cell_type": "markdown",
   "id": "bba7a6c6",
   "metadata": {},
   "source": [
    "编写 `char2tensor(char)` 函数，将一个字母转换为 one-hot 向量，即该向量中第 i 个元素为1，其余为0，其中 i 表示该字母在字典中的位置。\n",
    "\n",
    "**注意，该向量的长度应为27，因为我们要预留终止符，用 `[0.0, 0.0, ..., 1.0]` 表示**。\n",
    "\n",
    "`char2tensor(\"a\")` 应返回 `torch.tensor([1.0, 0.0, ...])`，`char2tensor(\"z\")` 应返回 `torch.tensor([0.0, ..., 1.0, 0.0])`。"
   ]
  },
  {
   "cell_type": "code",
   "execution_count": 18,
   "id": "fe9e67d6",
   "metadata": {},
   "outputs": [
    {
     "name": "stdout",
     "output_type": "stream",
     "text": [
      "tensor([0., 0., 0., 0., 0., 0., 0., 0., 0., 0., 0., 0., 0., 0., 0., 0., 0., 0., 0., 0., 0., 0., 0., 0.,\n",
      "        0., 0., 0.])\n",
      "tensor([0., 0., 0., 0., 0., 0., 0., 0., 0., 0., 0., 0., 0., 0., 0., 0., 0., 0., 0., 0., 0., 0., 0., 0.,\n",
      "        0., 0., 0.])\n",
      "True\n"
     ]
    }
   ],
   "source": [
    "def char2tensor(char):\n",
    "    # Implementation here\n",
    "    return torch.zeros(27)\n",
    "\n",
    "print(char2tensor(\"a\"))\n",
    "print(char2tensor(\"z\"))\n",
    "print(char2tensor(\"z\").shape[0] == 27)"
   ]
  },
  {
   "cell_type": "markdown",
   "id": "dbdeaf2a",
   "metadata": {},
   "source": [
    "5. 构建模型。我们使用最简单的 RNN 结构，即隐藏单元是输入和上一期隐藏单元的线性变换加上 Tanh 激活函数，输出单元是隐藏单元的线性变换加上 Softmax 激活函数。输出的结果代表下一个字符的概率分布。"
   ]
  },
  {
   "cell_type": "code",
   "id": "7e3882c4",
   "metadata": {
    "pycharm": {
     "name": "#%%\n"
    }
   },
   "source": [
    "class RNN(torch.nn.Module):\n",
    "    def __init__(self, input_size, hidden_size):\n",
    "        super(RNN, self).__init__()\n",
    "        self.hidden_size = hidden_size\n",
    "        self.i2h = torch.nn.Linear(in_features=input_size+hidden_size, out_features=hidden_size)\n",
    "        self.h2o = torch.nn.Linear(in_features=hidden_size, out_features=input_size)\n",
    "\n",
    "    def forward(self, input, hidden):\n",
    "        combined = torch.cat((input, hidden), dim=1)\n",
    "        hidden = torch.tanh(self.i2h(combined))\n",
    "        output = torch.nn.functional.softmax(self.h2o(hidden), dim=1)\n",
    "        return output, hidden\n",
    "\n",
    "    def init_hidden(self):\n",
    "        return torch.zeros(1, self.hidden_size)\n",
    "\n"
   ],
   "execution_count": 19,
   "outputs": []
  },
  {
   "cell_type": "markdown",
   "id": "f239d9cb",
   "metadata": {},
   "source": [
    "我们做一个简单的测试。请在下面的代码中加入适当的语句，使得每次运行的结果不变。根据其输出结果，请问当前模型预测字符a的下一个字符是什么？为什么？"
   ]
  },
  {
   "cell_type": "code",
   "execution_count": 29,
   "id": "3648bc0d",
   "metadata": {},
   "outputs": [
    {
     "name": "stdout",
     "output_type": "stream",
     "text": [
      "tensor([[0.0305, 0.0349, 0.0331, 0.0355, 0.0383, 0.0414, 0.0439, 0.0352, 0.0397,\n",
      "         0.0264, 0.0326, 0.0358, 0.0358, 0.0393, 0.0355, 0.0356, 0.0484, 0.0351,\n",
      "         0.0438, 0.0430, 0.0360, 0.0319, 0.0429, 0.0357, 0.0282, 0.0437, 0.0379]],\n",
      "       grad_fn=<SoftmaxBackward>)\n"
     ]
    }
   ],
   "source": [
    "np.random.seed(123)\n",
    "torch.manual_seed(123)\n",
    "\n",
    "\n",
    "rnn = RNN(input_size=27, hidden_size=10)\n",
    "input = char2tensor(\"a\")\n",
    "hidden = rnn.init_hidden()\n",
    "output, hidden = rnn(input.view(1, 27), hidden)\n",
    "print(output)"
   ]
  },
  {
   "cell_type": "markdown",
   "id": "533cf035",
   "metadata": {},
   "source": [
    "6. 接下来我们定义好损失函数。与第1题中类似，预测值是一个概率分布，而真实的标签是0到26中的一个整数，代表真实的下一个字符在字典中的位置。假设当前处理的名字为\"abel\"，那么字符a的输出结果对应的标签是什么？请完成下面的代码。"
   ]
  },
  {
   "cell_type": "code",
   "execution_count": 21,
   "id": "8cd6762c",
   "metadata": {
    "scrolled": true
   },
   "outputs": [
    {
     "name": "stdout",
     "output_type": "stream",
     "text": [
      "tensor(3.3374, grad_fn=<NllLossBackward>)\n"
     ]
    }
   ],
   "source": [
    "# Change \"target\" to a proper value\n",
    "target = 3\n",
    "\n",
    "lossfn = torch.nn.NLLLoss()\n",
    "loss = lossfn(torch.log(output), torch.tensor([target]))\n",
    "print(loss)"
   ]
  },
  {
   "cell_type": "markdown",
   "id": "3257635e",
   "metadata": {},
   "source": [
    "7. 明确单个字符的损失函数的计算方法后，请在下面计算出\"abel\"这个观测整体的损失函数值。"
   ]
  },
  {
   "cell_type": "code",
   "execution_count": 30,
   "outputs": [
    {
     "name": "stdout",
     "output_type": "stream",
     "text": [
      "tensor(29.7816, grad_fn=<AddBackward0>)\n"
     ]
    }
   ],
   "source": [
    "name = 'abel'\n",
    "nchar = len(name)\n",
    "for j in range(nchar):\n",
    "    input = char2tensor(name[j])\n",
    "    output, hidden = rnn(input.view(1,27), hidden)\n",
    "\n",
    "    if j == nchar - 1:\n",
    "        target = 26\n",
    "    else:\n",
    "        target = char2index(name[j + 1])\n",
    "    loss = loss + lossfn(torch.log(output), torch.tensor([target]))\n",
    "print(loss)\n"
   ],
   "metadata": {
    "collapsed": false,
    "pycharm": {
     "name": "#%%\n"
    }
   }
  },
  {
   "cell_type": "markdown",
   "id": "969e62e5",
   "metadata": {},
   "source": [
    "8. 将上述过程在数据上进行反复迭代，训练模型。"
   ]
  },
  {
   "cell_type": "code",
   "execution_count": 31,
   "id": "7eea6312",
   "metadata": {
    "scrolled": true
   },
   "outputs": [
    {
     "data": {
      "text/plain": "'for k in range(nepoch):\\n    # Shuffle the data\\n    np.random.shuffle(train_ind)\\n    # Loop over observations. Each observation is a name\\n    for i in range(n):\\n        name = names[train_ind[i]]\\n        nchar = len(name)\\n        # Loop over the characters in the name\\n        # Each input character has a target, which is the index of the next character in the dictionary\\n        # For the last character in the name, the target is the end-of-sequence symbol, which has index 26\\n        loss = 0.0\\n        hidden = rnn.init_hidden()\\n        for j in range(nchar):\\n            input = char2tensor(name[j])\\n            output, hidden = rnn(input.view(1, n_input), hidden)\\n\\n            if j == nchar - 1:\\n                target = 26\\n            else:\\n                target = char2index(name[j + 1])\\n\\n            loss = loss + lossfn(torch.log(output), torch.tensor([target]))\\n    \\n        loss = loss / nchar\\n\\n        opt.zero_grad()\\n        loss.backward()\\n        opt.step()\\n\\n        losses.append(loss.item())\\n        if i % 1000 == 0:\\n            print(f\"epoch {k}, obs {i}, loss = {loss.item()}\")\\n'"
     },
     "execution_count": 31,
     "metadata": {},
     "output_type": "execute_result"
    }
   ],
   "source": [
    "np.random.seed(123)\n",
    "torch.random.manual_seed(123)\n",
    "\n",
    "n = len(names)\n",
    "n_hidden = 16\n",
    "n_input = 27\n",
    "nepoch = 10\n",
    "\n",
    "rnn = RNN(n_input, n_hidden)\n",
    "opt = torch.optim.Adam(rnn.parameters(), lr=0.0001)\n",
    "train_ind = np.arange(n)\n",
    "losses = []\n",
    "\n",
    "lossfn = torch.nn.NLLLoss()\n",
    "\n",
    "# Loop over epochs\n",
    "for k in range(nepoch):\n",
    "    # Shuffle the data\n",
    "    np.random.shuffle(train_ind)\n",
    "    # Loop over observations. Each observation is a name\n",
    "    for i in range(n):\n",
    "        name = names[train_ind[i]]\n",
    "        nchar = len(name)\n",
    "        # Loop over the characters in the name\n",
    "        # Each input character has a target, which is the index of the next character in the dictionary\n",
    "        # For the last character in the name, the target is the end-of-sequence symbol, which has index 26\n",
    "        loss = 0.0\n",
    "        hidden = rnn.init_hidden()\n",
    "        for j in range(nchar):\n",
    "            input = char2tensor(name[j])\n",
    "            output, hidden = rnn(input.view(1, n_input), hidden)\n",
    "\n",
    "            if j == nchar - 1:\n",
    "                target = 26\n",
    "            else:\n",
    "                target = char2index(name[j + 1])\n",
    "\n",
    "            loss = loss + lossfn(torch.log(output), torch.tensor([target]))\n",
    "    \n",
    "        loss = loss / nchar\n",
    "\n",
    "        opt.zero_grad()\n",
    "        loss.backward()\n",
    "        opt.step()\n",
    "\n",
    "        losses.append(loss.item())\n",
    "        if i % 1000 == 0:\n",
    "            print(f\"epoch {k}, obs {i}, loss = {loss.item()}\")"
   ]
  },
  {
   "cell_type": "code",
   "execution_count": null,
   "id": "945bdfe5",
   "metadata": {
    "pycharm": {
     "is_executing": true
    }
   },
   "outputs": [],
   "source": [
    "import matplotlib.pyplot as plt\n",
    "plt.plot(losses)"
   ]
  },
  {
   "cell_type": "markdown",
   "id": "1ee490dc",
   "metadata": {},
   "source": [
    "9. 编写一个函数 `random_first_letter()`，它随机返回字典中的一个字符，我们将利用它来随机生成第一个字符。"
   ]
  },
  {
   "cell_type": "code",
   "execution_count": 1,
   "id": "e08363c9",
   "metadata": {},
   "outputs": [
    {
     "name": "stdout",
     "output_type": "stream",
     "text": [
      "u\n",
      "e\n",
      "c\n"
     ]
    }
   ],
   "source": [
    "import random\n",
    "import string\n",
    "def random_first_letter():\n",
    "    # Implementation here\n",
    "    dict = string.ascii_lowercase\n",
    "    a = random.choice(dict)\n",
    "    return a\n",
    "\n",
    "print(random_first_letter())\n",
    "print(random_first_letter())\n",
    "print(random_first_letter())"
   ]
  },
  {
   "cell_type": "markdown",
   "id": "0181a2a9",
   "metadata": {},
   "source": [
    "请简要说明如下的代码的含义（可以在代码中加入注释），然后利用它随机生成10个名字。评价生成的结果，并简要说明可以如何改进模型的效果？"
   ]
  },
  {
   "cell_type": "code",
   "execution_count": 3,
   "id": "6890de6c",
   "metadata": {},
   "outputs": [],
   "source": [
    "def random_name(max_len=20):\n",
    "    rnn.eval()\n",
    "    first_letter = random_first_letter()\n",
    "    char_ind = [char2index(first_letter)]\n",
    "    input = char2tensor(first_letter)\n",
    "    hidden = rnn.init_hidden()\n",
    "    for i in range(max_len - 1):\n",
    "        output, hidden = rnn(input.view(1, n_input), hidden)\n",
    "        ind = torch.argmax(output).item()\n",
    "        if ind == 26:\n",
    "            break\n",
    "        char_ind.append(ind)\n",
    "        input.zero_()\n",
    "        input[ind] = 1.0\n",
    "    return \"\".join([dict[i] for i in char_ind])\n",
    "\n",
    "\n",
    "for i in range(10):\n",
    "    print(random_name())\n"
   ]
  },
  {
   "cell_type": "markdown",
   "id": "380b764e",
   "metadata": {},
   "source": [
    "### 第3题"
   ]
  },
  {
   "cell_type": "markdown",
   "id": "31c1914c",
   "metadata": {},
   "source": [
    "利用卷积函数实现任意大整数的乘法。给定两个整数，如 183612 和 23333，用两个列表表达它们的序列："
   ]
  },
  {
   "cell_type": "code",
   "execution_count": 49,
   "id": "20e24e3e",
   "metadata": {},
   "outputs": [],
   "source": [
    "n1 = [1, 8, 3, 6, 1, 2]\n",
    "n2 = [2, 3, 3, 3, 3]"
   ]
  },
  {
   "cell_type": "markdown",
   "id": "b41eb75c",
   "metadata": {},
   "source": [
    "请编写一个函数 `integer_mult(n1, n2)`，返回 `n1 * n2` 对应的整数序列。注意不要直接调用乘法表达式（设想有两个非常大的整数，直接相乘可能会导致数值溢出）。"
   ]
  },
  {
   "cell_type": "code",
   "execution_count": 50,
   "id": "b10932c8",
   "metadata": {},
   "outputs": [
    {
     "name": "stdout",
     "output_type": "stream",
     "text": [
      "[2, 1, 6, 3, 8, 1]\n",
      "[4, 2, 8, 4, 2, 1, 8, 7, 9, 6]\n",
      "True\n"
     ]
    }
   ],
   "source": [
    "def integer_mult(n1, n2):\n",
    "    # Implementation here\n",
    "    n1.reverse()\n",
    "    n2.reverse()\n",
    "\n",
    "    ans1 = [0 for i in range(len(n1)+len(n2)-1)]\n",
    "    for i in range(len(n1)):\n",
    "        for j in range(len(n2)):\n",
    "            ans1[i+j] += n1[i]*n2[j]\n",
    "    for i in range(len(ans1)-1):\n",
    "        if ans1[i] >= 10:\n",
    "            ans1[i+1] += ans1[i]//10\n",
    "            ans1[i] = ans1[i]%10\n",
    "\n",
    "    last = ans1[len(ans1)-1]\n",
    "    if last >= 10:\n",
    "        ans1.append(last//10)\n",
    "        ans1[len(ans1)-2] = last%10\n",
    "    return ans1\n",
    "\n",
    "res = integer_mult(n1, n2)\n",
    "res.reverse()\n",
    "print(res == [4, 2, 8, 4, 2, 1, 8, 7, 9, 6])"
   ]
  },
  {
   "cell_type": "markdown",
   "id": "615d618d",
   "metadata": {},
   "source": [
    "思路："
   ]
  },
  {
   "cell_type": "markdown",
   "id": "892ba308",
   "metadata": {},
   "source": [
    "1. 先实现多项式的乘法。例如，给定 $p(x)=1+2x+x^4$ 和 $q(x)=x+3x^2+5x^3$，计算 $r(x)=p(x)q(x)$。我们将 $p(x)$ 编码为 `p = [1, 2, 0, 0, 1]`，$q(x)$ 编码为 `q = [0, 1, 3, 5]`，请编写函数 `poly_mult(p, q)`，使得 `poly_mult(p, q) == [0, 1, 5, 11, 10, 1, 3, 5]`。"
   ]
  },
  {
   "cell_type": "code",
   "execution_count": 22,
   "id": "b015b0c4",
   "metadata": {},
   "outputs": [
    {
     "name": "stdout",
     "output_type": "stream",
     "text": [
      "True\n"
     ]
    }
   ],
   "source": [
    "p = [1, 2, 0, 0, 1]\n",
    "q = [0, 1, 3, 5]\n",
    "\n",
    "\n",
    "def poly_mult(p, q):\n",
    "    # Implementation here\n",
    "    ans = [0 for i in range(len(p)+len(q)-1)]\n",
    "    for i in range(len(p)):\n",
    "        for j in range(len(q)):\n",
    "            ans[i+j] += p[i]*q[j]\n",
    "    return ans\n",
    "\n",
    "print(poly_mult(p, q) == [0, 1, 5, 11, 10,  1, 3, 5])"
   ]
  },
  {
   "cell_type": "markdown",
   "id": "be7b1b8d",
   "metadata": {},
   "source": [
    "2. 对于任意的一个整数，将其看成是某个多项式在 $x=10$ 处的取值，如 $123 = p_1(10)$，$p_1(x)=3+2x+x^2$，$5310 = p_2(10)$，$p_2(x)=x+3x^2+5x^3$，注意需要适当将序列反序。因此，要计算 $123\\times 5310$，相当于计算 $r(10)$ 的值，但为了避免直接进行乘法运算（防止溢出），可以先计算 $r(x)$ 的表达式（等价于其系数向量），然后建立起 $r(x)$ 的系数与 $r(10)$ 之间的联系（见如下第3点）。"
   ]
  },
  {
   "cell_type": "markdown",
   "id": "4ea4421d",
   "metadata": {},
   "source": [
    "3. 如果一个多项式 $r(x)$ 所有的系数都是0到9之间的整数，那么 $r(x)$ 和 $r(10)$ 的关系非常直接，比如若 $r(x)=1+2x+5x^2+3x^3$，则 $r(10)=3521$。但如果有系数超过10，就需要考虑进位的影响，比如 $r(x)=1+11x+2x^2$，$r(10)=311$。此时可以从 $r(x)$ 的第一项开始逐项进位，构造一个新的多项式 $r'(x)=1+x+3x^2$，满足 $r'(10)=r(10)$，且 $r'(x)$ 所有的系数都不超过10。 "
   ]
  },
  {
   "cell_type": "markdown",
   "id": "99d09a79",
   "metadata": {},
   "source": [
    "4. 综合利用以上信息，完成本题的算法编写。并测试 23742389754298365 * 809723950 的结果。"
   ]
  },
  {
   "cell_type": "code",
   "execution_count": 25,
   "outputs": [
    {
     "name": "stdout",
     "output_type": "stream",
     "text": [
      "[0, 5, 7, 1, 4, 3, 6, 8, 5, 1, 0, 0, 0, 9, 2, 4, 1, 6, 1, 8, 7, 4, 2, 2, 9, 1]\n"
     ]
    }
   ],
   "source": [
    "p = [5,6,3,8,9,2,4,5,7,9,8,3,2,4,7,3,2]\n",
    "q = [0,5,9,3,2,7,9,0,8]\n",
    "ans1 = poly_mult(p,q)\n",
    "for i in range(len(ans1)-1):\n",
    "    if ans1[i] >= 10:\n",
    "        ans1[i+1] += ans1[i]//10\n",
    "        ans1[i] = ans1[i]%10\n",
    "\n",
    "last = ans1[len(ans1)-1]\n",
    "if last >= 10:\n",
    "    ans1.append(last//10)\n",
    "    ans1[len(ans1)-2] = last%10\n",
    "print(ans1)\n",
    "\n",
    "\n"
   ],
   "metadata": {
    "collapsed": false,
    "pycharm": {
     "name": "#%%\n"
    }
   }
  }
 ],
 "metadata": {
  "kernelspec": {
   "name": "pycharm-682d330d",
   "language": "python",
   "display_name": "PyCharm (python代码仓库)"
  },
  "language_info": {
   "codemirror_mode": {
    "name": "ipython",
    "version": 3
   },
   "file_extension": ".py",
   "mimetype": "text/x-python",
   "name": "python",
   "nbconvert_exporter": "python",
   "pygments_lexer": "ipython3",
   "version": "3.9.2"
  }
 },
 "nbformat": 4,
 "nbformat_minor": 5
}